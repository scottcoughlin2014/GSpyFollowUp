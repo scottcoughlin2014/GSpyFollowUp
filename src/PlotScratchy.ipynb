{
 "cells": [
  {
   "cell_type": "code",
   "execution_count": null,
   "metadata": {
    "collapsed": true
   },
   "outputs": [],
   "source": [
    "from matplotlib import use\n",
    "use('agg')\n",
    "from matplotlib import (pyplot as plt, cm)\n",
    "\n",
    "import pandas\n",
    "from gwpy.timeseries import TimeSeries\n",
    "\n",
    "noglitchdf = pandas.DataFrame.from_csv('No_Glitch.csv')\n",
    "scratchyglitchdf = pandas.DataFrame.from_csv('Scratchy_metadata_ML_H1_Selected.csv')\n",
    "\n",
    "\n",
    "duration = 120\n",
    "secpfft = 8\n",
    "overlap = 0.75\n",
    "\n",
    "badtimes = scratchyglitchdf.GPStime\n",
    "#goodtime = 1135372000.0\n",
    "badtime = scratchyglitchdf.GPStime.iloc[0]\n",
    "#goodtimes = noglitchdf.GPStime\n",
    "#goodtime = noglitchdf.GPStime.iloc[0]\n",
    "\n",
    "#gooddata = TimeSeries.get('H1:SUS-RM2_M1_DAMP_P_IN1_DQ',goodtime-duration/2,goodtime+duration/2)\n",
    "baddata = TimeSeries.get('H1:SUS-RM2_M1_DAMP_P_IN1_DQ',badtime-duration/2,badtime+duration/2)\n",
    "\n",
    "#goodasd = gooddata.asd(secpfft,overlap)\n",
    "badasd = baddata.asd(secpfft,overlap)\n",
    "\n",
    "plot = badasd.plot(label='scratchy')\n",
    "\n",
    "ax = plot.gca()\n",
    "ax.set_xlabel('Frequency [Hz]')\n",
    "ax.set_xlim(6,20)\n",
    "ax.set_ylim(1e-6,10)\n",
    "ax.grid(True,'both','both')\n",
    "\n",
    "# test\n",
    "\n",
    "for iTime in badtimes[1:10]:\n",
    "    #goodtime = 1135372000.0\n",
    "    badtime = iTime\n",
    "\n",
    "    #gooddata = TimeSeries.get('H1:SUS-RM2_M1_DAMP_P_IN1_DQ',goodtime-duration/2,goodtime+duration/2)\n",
    "    baddata = TimeSeries.get('H1:SUS-RM2_M1_DAMP_P_IN1_DQ',badtime-duration/2,badtime+duration/2)\n",
    "\n",
    "    #goodasd = gooddata.asd(secpfft,overlap)\n",
    "    badasd = baddata.asd(secpfft,overlap)\n",
    "\n",
    "    ax.plot(badasd,label=None)\n",
    "\n",
    "plot.savefig('/home/leah.perri/public_html/Scratchy/baddata.png')"
   ]
  }
 ],
 "metadata": {
  "kernelspec": {
   "display_name": "Python 2",
   "language": "python",
   "name": "python2"
  },
  "language_info": {
   "codemirror_mode": {
    "name": "ipython",
    "version": 2
   },
   "file_extension": ".py",
   "mimetype": "text/x-python",
   "name": "python",
   "nbconvert_exporter": "python",
   "pygments_lexer": "ipython2",
   "version": "2.7.5"
  }
 },
 "nbformat": 4,
 "nbformat_minor": 1
}
